{
 "cells": [
  {
   "cell_type": "code",
   "execution_count": 1,
   "metadata": {},
   "outputs": [],
   "source": [
    "import json"
   ]
  },
  {
   "cell_type": "code",
   "execution_count": 31,
   "metadata": {},
   "outputs": [],
   "source": [
    "txt = []\n",
    "with open('nohup.txt','r') as f:\n",
    "    for index,line in enumerate(f):\n",
    "        #data = f.readline()\n",
    "        if line.split(' ')[0].startswith('['):\n",
    "            txt.append(line)\n",
    "            #print(\"Line {}: {}\".format(index, line))"
   ]
  },
  {
   "cell_type": "code",
   "execution_count": 46,
   "metadata": {},
   "outputs": [],
   "source": [
    "A_loss = []\n",
    "B_loss = []\n",
    "for i,l in enumerate(txt):\n",
    "    tokens = l.split(' ')\n",
    "    if len(tokens)==6:\n",
    "        A_loss.append(float(tokens[3].replace(',','')))\n",
    "        B_loss.append(float(tokens[5].replace('\\n','')))\n",
    "    "
   ]
  },
  {
   "cell_type": "code",
   "execution_count": 51,
   "metadata": {},
   "outputs": [
    {
     "data": {
      "text/plain": [
       "29807"
      ]
     },
     "execution_count": 51,
     "metadata": {},
     "output_type": "execute_result"
    }
   ],
   "source": [
    "len(A_loss)"
   ]
  },
  {
   "cell_type": "code",
   "execution_count": 55,
   "metadata": {},
   "outputs": [],
   "source": [
    "data = {}\n",
    "data['result'] = []\n",
    "for epoch in range(len(A_loss)):\n",
    "    data['result'].append({\n",
    "        'epoch':epoch,\n",
    "        'loss_A':A_loss[epoch],\n",
    "        'loss_B':B_loss[epoch]\n",
    "    })\n",
    "with open('result.csv', 'w') as outfile:  \n",
    "    json.dump(data, outfile)"
   ]
  },
  {
   "cell_type": "code",
   "execution_count": null,
   "metadata": {},
   "outputs": [],
   "source": []
  }
 ],
 "metadata": {
  "kernelspec": {
   "display_name": "Python 3",
   "language": "python",
   "name": "python3"
  },
  "language_info": {
   "codemirror_mode": {
    "name": "ipython",
    "version": 3
   },
   "file_extension": ".py",
   "mimetype": "text/x-python",
   "name": "python",
   "nbconvert_exporter": "python",
   "pygments_lexer": "ipython3",
   "version": "3.7.3"
  }
 },
 "nbformat": 4,
 "nbformat_minor": 2
}
